{
 "cells": [
  {
   "cell_type": "code",
   "execution_count": 8,
   "id": "784deb2d",
   "metadata": {},
   "outputs": [],
   "source": [
    "import tensorflow as tf  \n",
    "import cv2             \n",
    "import matplotlib.pyplot as plt   \n",
    "import numpy as np               \n",
    "import os    \n",
    "import tensorflow as tf\n",
    "from tensorflow import keras\n",
    "from tensorflow.keras import layers\n",
    "from sklearn import metrics\n",
    "from tensorflow.keras.models import Sequential\n",
    "from tensorflow.keras.layers import Dense,Dropout,Conv2D,MaxPooling2D,Flatten\n",
    "from tensorflow.keras.preprocessing.image import ImageDataGenerator"
   ]
  },
  {
   "cell_type": "code",
   "execution_count": 9,
   "id": "fd45d12d",
   "metadata": {},
   "outputs": [],
   "source": [
    "training_data=[]\n",
    "Datadiractory=\"dataset\"\n",
    "Classes=[\"closed\",\"open\"]\n",
    "img_size=100\n",
    "def create_training_data():\n",
    "    for category in Classes:\n",
    "        path=os.path.join(Datadiractory,category)\n",
    "        class_num=Classes.index(category)\n",
    "        for img in os.listdir(path):\n",
    "            try:\n",
    "                img_array=cv2.imread(os.path.join(path,img),cv2.IMREAD_GRAYSCALE)\n",
    "                backtorgb=cv2.cvtColor(img_array,cv2.COLOR_GRAY2RGB)\n",
    "                new_img_array=cv2.resize(backtorgb,(img_size,img_size))\n",
    "                training_data.append([new_img_array,class_num])\n",
    "            except Exception as e:\n",
    "                pass"
   ]
  },
  {
   "cell_type": "code",
   "execution_count": 10,
   "id": "887f788d",
   "metadata": {},
   "outputs": [],
   "source": [
    "create_training_data()\n"
   ]
  },
  {
   "cell_type": "code",
   "execution_count": 11,
   "id": "25ebd62d",
   "metadata": {},
   "outputs": [
    {
     "name": "stdout",
     "output_type": "stream",
     "text": [
      "4382\n"
     ]
    }
   ],
   "source": [
    "print(len(training_data))"
   ]
  },
  {
   "cell_type": "code",
   "execution_count": 12,
   "id": "72346a64",
   "metadata": {},
   "outputs": [],
   "source": [
    "import random  #overfitting \n",
    "\n",
    "random.shuffle(training_data)"
   ]
  },
  {
   "cell_type": "code",
   "execution_count": 13,
   "id": "2b842b9b",
   "metadata": {},
   "outputs": [],
   "source": [
    "X=[]\n",
    "y=[]\n",
    "\n",
    "for features,label in training_data:\n",
    "    X.append(features)\n",
    "    y.append(label)\n",
    "    \n",
    "X=np.array(X).reshape(-1,img_size,img_size,3)"
   ]
  },
  {
   "cell_type": "code",
   "execution_count": 14,
   "id": "76593f9b",
   "metadata": {},
   "outputs": [
    {
     "data": {
      "text/plain": [
       "(4382, 100, 100, 3)"
      ]
     },
     "execution_count": 14,
     "metadata": {},
     "output_type": "execute_result"
    }
   ],
   "source": [
    "X.shape"
   ]
  },
  {
   "cell_type": "code",
   "execution_count": 15,
   "id": "0f184723",
   "metadata": {},
   "outputs": [],
   "source": [
    "#normalize the data \n",
    "X=X/255.0 "
   ]
  },
  {
   "cell_type": "code",
   "execution_count": 16,
   "id": "7883b302",
   "metadata": {},
   "outputs": [],
   "source": [
    "Y=np.array(y)"
   ]
  },
  {
   "cell_type": "code",
   "execution_count": 17,
   "id": "df4a2dfb",
   "metadata": {},
   "outputs": [],
   "source": [
    "model = Sequential()\n",
    "model.add(Conv2D(64,(3,3),input_shape=(100,100,3),activation=\"relu\"))\n",
    "model.add(MaxPooling2D((2,2)))\n",
    "\n",
    "model.add(Conv2D(32,(3,3),activation=\"relu\"))\n",
    "model.add(MaxPooling2D((2,2)))\n",
    "\n",
    "model.add(Conv2D(32,(3,3),activation=\"relu\"))\n",
    "model.add(MaxPooling2D((2,2)))\n",
    "\n",
    "model.add(Conv2D(16,(3,3),activation=\"relu\"))\n",
    "model.add(MaxPooling2D((2,2)))\n",
    "\n",
    "model.add(Conv2D(16,(3,3),activation=\"relu\"))\n",
    "model.add(MaxPooling2D((2,2)))\n",
    "\n",
    "model.add(Flatten())\n",
    "model.add(Dropout(0.5))\n",
    "\n",
    "model.add(Dense(128,activation=\"relu\"))\n",
    "model.add(Dropout(0.2))\n",
    "\n",
    "model.add(Dense(64,activation=\"relu\"))\n",
    "model.add(Dropout(0.2))\n",
    "\n",
    "model.add(Dense(1,activation='sigmoid'))\n",
    "y_test=Y"
   ]
  },
  {
   "cell_type": "code",
   "execution_count": 18,
   "id": "50b35293",
   "metadata": {},
   "outputs": [],
   "source": [
    "model.compile(loss=\"binary_crossentropy\",optimizer=\"adam\",metrics=['accuracy'])"
   ]
  },
  {
   "cell_type": "code",
   "execution_count": 21,
   "id": "cc4045d3",
   "metadata": {
    "scrolled": true
   },
   "outputs": [
    {
     "name": "stdout",
     "output_type": "stream",
     "text": [
      "Epoch 1/50\n",
      "110/110 [==============================] - 23s 198ms/step - loss: 0.6807 - accuracy: 0.5618 - val_loss: 0.5811 - val_accuracy: 0.7446\n",
      "Epoch 2/50\n",
      "110/110 [==============================] - 22s 199ms/step - loss: 0.4707 - accuracy: 0.7863 - val_loss: 0.3433 - val_accuracy: 0.8666\n",
      "Epoch 3/50\n",
      "110/110 [==============================] - 22s 203ms/step - loss: 0.3507 - accuracy: 0.8631 - val_loss: 0.2921 - val_accuracy: 0.8826\n",
      "Epoch 4/50\n",
      "110/110 [==============================] - 22s 203ms/step - loss: 0.2909 - accuracy: 0.8850 - val_loss: 0.2408 - val_accuracy: 0.9031\n",
      "Epoch 5/50\n",
      "110/110 [==============================] - 22s 203ms/step - loss: 0.2483 - accuracy: 0.9064 - val_loss: 0.2137 - val_accuracy: 0.9190\n",
      "Epoch 6/50\n",
      "110/110 [==============================] - 22s 204ms/step - loss: 0.2067 - accuracy: 0.9204 - val_loss: 0.1614 - val_accuracy: 0.9327\n",
      "Epoch 7/50\n",
      "110/110 [==============================] - 21s 195ms/step - loss: 0.1987 - accuracy: 0.9210 - val_loss: 0.1517 - val_accuracy: 0.9384\n",
      "Epoch 8/50\n",
      "110/110 [==============================] - 22s 197ms/step - loss: 0.1833 - accuracy: 0.9321 - val_loss: 0.1555 - val_accuracy: 0.9430\n",
      "Epoch 9/50\n",
      "110/110 [==============================] - 21s 194ms/step - loss: 0.1737 - accuracy: 0.9338 - val_loss: 0.1343 - val_accuracy: 0.9487\n",
      "Epoch 10/50\n",
      "110/110 [==============================] - 21s 188ms/step - loss: 0.1671 - accuracy: 0.9378 - val_loss: 0.1653 - val_accuracy: 0.9236\n",
      "Epoch 11/50\n",
      "110/110 [==============================] - 21s 190ms/step - loss: 0.1540 - accuracy: 0.9409 - val_loss: 0.1432 - val_accuracy: 0.9475\n",
      "Epoch 12/50\n",
      "110/110 [==============================] - 21s 189ms/step - loss: 0.1482 - accuracy: 0.9432 - val_loss: 0.1470 - val_accuracy: 0.9418\n",
      "Epoch 13/50\n",
      "110/110 [==============================] - 21s 191ms/step - loss: 0.1297 - accuracy: 0.9544 - val_loss: 0.1292 - val_accuracy: 0.9532\n",
      "Epoch 14/50\n",
      "110/110 [==============================] - 21s 192ms/step - loss: 0.1322 - accuracy: 0.9486 - val_loss: 0.1366 - val_accuracy: 0.9532\n",
      "Epoch 15/50\n",
      "110/110 [==============================] - 21s 190ms/step - loss: 0.1366 - accuracy: 0.9495 - val_loss: 0.1317 - val_accuracy: 0.9510\n",
      "Epoch 16/50\n",
      "110/110 [==============================] - 21s 188ms/step - loss: 0.1302 - accuracy: 0.9509 - val_loss: 0.1216 - val_accuracy: 0.9601\n",
      "Epoch 17/50\n",
      "110/110 [==============================] - 21s 190ms/step - loss: 0.1227 - accuracy: 0.9535 - val_loss: 0.1282 - val_accuracy: 0.9453\n",
      "Epoch 18/50\n",
      "110/110 [==============================] - 21s 187ms/step - loss: 0.1227 - accuracy: 0.9546 - val_loss: 0.1217 - val_accuracy: 0.9567\n",
      "Epoch 19/50\n",
      "110/110 [==============================] - 20s 181ms/step - loss: 0.1076 - accuracy: 0.9595 - val_loss: 0.1168 - val_accuracy: 0.9521\n",
      "Epoch 20/50\n",
      "110/110 [==============================] - 20s 183ms/step - loss: 0.1012 - accuracy: 0.9621 - val_loss: 0.1437 - val_accuracy: 0.9430\n",
      "Epoch 21/50\n",
      "110/110 [==============================] - 20s 185ms/step - loss: 0.1012 - accuracy: 0.9618 - val_loss: 0.1075 - val_accuracy: 0.9590\n",
      "Epoch 22/50\n",
      "110/110 [==============================] - 20s 179ms/step - loss: 0.1030 - accuracy: 0.9621 - val_loss: 0.1145 - val_accuracy: 0.9555\n",
      "Epoch 23/50\n",
      "110/110 [==============================] - 20s 180ms/step - loss: 0.1033 - accuracy: 0.9592 - val_loss: 0.1047 - val_accuracy: 0.9567\n",
      "Epoch 24/50\n",
      "110/110 [==============================] - 20s 181ms/step - loss: 0.0953 - accuracy: 0.9612 - val_loss: 0.1122 - val_accuracy: 0.9555\n",
      "Epoch 25/50\n",
      "110/110 [==============================] - 20s 185ms/step - loss: 0.1054 - accuracy: 0.9601 - val_loss: 0.1307 - val_accuracy: 0.9475\n",
      "Epoch 26/50\n",
      "110/110 [==============================] - 20s 180ms/step - loss: 0.0973 - accuracy: 0.9663 - val_loss: 0.1046 - val_accuracy: 0.9567\n",
      "Epoch 27/50\n",
      "110/110 [==============================] - 20s 180ms/step - loss: 0.0868 - accuracy: 0.9666 - val_loss: 0.1003 - val_accuracy: 0.9635\n",
      "Epoch 28/50\n",
      "110/110 [==============================] - 20s 185ms/step - loss: 0.0950 - accuracy: 0.9626 - val_loss: 0.1104 - val_accuracy: 0.9635\n",
      "Epoch 29/50\n",
      "110/110 [==============================] - 21s 188ms/step - loss: 0.0827 - accuracy: 0.9698 - val_loss: 0.1123 - val_accuracy: 0.9555\n",
      "Epoch 30/50\n",
      "110/110 [==============================] - 21s 188ms/step - loss: 0.0970 - accuracy: 0.9586 - val_loss: 0.1046 - val_accuracy: 0.9635\n",
      "Epoch 31/50\n",
      "110/110 [==============================] - 20s 180ms/step - loss: 0.0811 - accuracy: 0.9703 - val_loss: 0.1130 - val_accuracy: 0.9590\n",
      "Epoch 32/50\n",
      "110/110 [==============================] - 20s 182ms/step - loss: 0.0713 - accuracy: 0.9743 - val_loss: 0.1560 - val_accuracy: 0.9407\n",
      "Epoch 33/50\n",
      "110/110 [==============================] - 21s 191ms/step - loss: 0.0782 - accuracy: 0.9669 - val_loss: 0.1071 - val_accuracy: 0.9578\n",
      "Epoch 34/50\n",
      "110/110 [==============================] - 20s 186ms/step - loss: 0.0869 - accuracy: 0.9652 - val_loss: 0.1089 - val_accuracy: 0.9567\n",
      "Epoch 35/50\n",
      "110/110 [==============================] - 21s 192ms/step - loss: 0.0829 - accuracy: 0.9638 - val_loss: 0.0901 - val_accuracy: 0.9578\n",
      "Epoch 36/50\n",
      "110/110 [==============================] - 20s 186ms/step - loss: 0.0615 - accuracy: 0.9738 - val_loss: 0.1288 - val_accuracy: 0.9498\n",
      "Epoch 37/50\n",
      "110/110 [==============================] - 21s 187ms/step - loss: 0.0697 - accuracy: 0.9726 - val_loss: 0.1142 - val_accuracy: 0.9601\n",
      "Epoch 38/50\n",
      "110/110 [==============================] - 21s 189ms/step - loss: 0.0578 - accuracy: 0.9752 - val_loss: 0.1109 - val_accuracy: 0.9578\n",
      "Epoch 39/50\n",
      "110/110 [==============================] - 20s 186ms/step - loss: 0.0675 - accuracy: 0.9729 - val_loss: 0.1191 - val_accuracy: 0.9578\n",
      "Epoch 40/50\n",
      "110/110 [==============================] - 21s 190ms/step - loss: 0.0632 - accuracy: 0.9718 - val_loss: 0.0981 - val_accuracy: 0.9612\n",
      "Epoch 41/50\n",
      "110/110 [==============================] - 21s 189ms/step - loss: 0.0647 - accuracy: 0.9757 - val_loss: 0.1467 - val_accuracy: 0.9441\n",
      "Epoch 42/50\n",
      "110/110 [==============================] - 20s 183ms/step - loss: 0.0612 - accuracy: 0.9772 - val_loss: 0.1157 - val_accuracy: 0.9578\n",
      "Epoch 43/50\n",
      "110/110 [==============================] - 20s 185ms/step - loss: 0.0740 - accuracy: 0.9706 - val_loss: 0.1077 - val_accuracy: 0.9635\n",
      "Epoch 44/50\n",
      "110/110 [==============================] - 21s 191ms/step - loss: 0.0588 - accuracy: 0.9752 - val_loss: 0.1104 - val_accuracy: 0.9624\n",
      "Epoch 45/50\n",
      "110/110 [==============================] - 20s 183ms/step - loss: 0.0547 - accuracy: 0.9783 - val_loss: 0.0973 - val_accuracy: 0.9612\n",
      "Epoch 46/50\n",
      "110/110 [==============================] - 20s 182ms/step - loss: 0.0546 - accuracy: 0.9772 - val_loss: 0.1271 - val_accuracy: 0.9532\n",
      "Epoch 47/50\n",
      "110/110 [==============================] - 20s 183ms/step - loss: 0.0716 - accuracy: 0.9732 - val_loss: 0.0979 - val_accuracy: 0.9635\n",
      "Epoch 48/50\n",
      "110/110 [==============================] - 20s 181ms/step - loss: 0.0658 - accuracy: 0.9743 - val_loss: 0.1033 - val_accuracy: 0.9612\n",
      "Epoch 49/50\n",
      "110/110 [==============================] - 20s 181ms/step - loss: 0.0616 - accuracy: 0.9757 - val_loss: 0.1158 - val_accuracy: 0.9601\n",
      "Epoch 50/50\n",
      "110/110 [==============================] - 20s 182ms/step - loss: 0.0613 - accuracy: 0.9760 - val_loss: 0.1201 - val_accuracy: 0.9601\n"
     ]
    }
   ],
   "source": [
    "model_history=model.fit(X,Y,epochs=50,validation_split=0.2) #training "
   ]
  },
  {
   "cell_type": "code",
   "execution_count": 22,
   "id": "5125cc78",
   "metadata": {},
   "outputs": [
    {
     "name": "stdout",
     "output_type": "stream",
     "text": [
      "Model: \"sequential\"\n",
      "_________________________________________________________________\n",
      " Layer (type)                Output Shape              Param #   \n",
      "=================================================================\n",
      " conv2d (Conv2D)             (None, 98, 98, 64)        1792      \n",
      "                                                                 \n",
      " max_pooling2d (MaxPooling2D  (None, 49, 49, 64)       0         \n",
      " )                                                               \n",
      "                                                                 \n",
      " conv2d_1 (Conv2D)           (None, 47, 47, 32)        18464     \n",
      "                                                                 \n",
      " max_pooling2d_1 (MaxPooling  (None, 23, 23, 32)       0         \n",
      " 2D)                                                             \n",
      "                                                                 \n",
      " conv2d_2 (Conv2D)           (None, 21, 21, 32)        9248      \n",
      "                                                                 \n",
      " max_pooling2d_2 (MaxPooling  (None, 10, 10, 32)       0         \n",
      " 2D)                                                             \n",
      "                                                                 \n",
      " conv2d_3 (Conv2D)           (None, 8, 8, 16)          4624      \n",
      "                                                                 \n",
      " max_pooling2d_3 (MaxPooling  (None, 4, 4, 16)         0         \n",
      " 2D)                                                             \n",
      "                                                                 \n",
      " conv2d_4 (Conv2D)           (None, 2, 2, 16)          2320      \n",
      "                                                                 \n",
      " max_pooling2d_4 (MaxPooling  (None, 1, 1, 16)         0         \n",
      " 2D)                                                             \n",
      "                                                                 \n",
      " flatten (Flatten)           (None, 16)                0         \n",
      "                                                                 \n",
      " dropout (Dropout)           (None, 16)                0         \n",
      "                                                                 \n",
      " dense (Dense)               (None, 128)               2176      \n",
      "                                                                 \n",
      " dropout_1 (Dropout)         (None, 128)               0         \n",
      "                                                                 \n",
      " dense_1 (Dense)             (None, 64)                8256      \n",
      "                                                                 \n",
      " dropout_2 (Dropout)         (None, 64)                0         \n",
      "                                                                 \n",
      " dense_2 (Dense)             (None, 1)                 65        \n",
      "                                                                 \n",
      "=================================================================\n",
      "Total params: 46,945\n",
      "Trainable params: 46,945\n",
      "Non-trainable params: 0\n",
      "_________________________________________________________________\n"
     ]
    }
   ],
   "source": [
    "model.save('modeldr.h5')\n",
    "model.summary()"
   ]
  },
  {
   "cell_type": "code",
   "execution_count": 23,
   "id": "129538c4",
   "metadata": {},
   "outputs": [
    {
     "data": {
      "image/png": "[encoded data removed]",
      "text/plain": [
       "<Figure size 640x480 with 1 Axes>"
      ]
     },
     "metadata": {},
     "output_type": "display_data"
    }
   ],
   "source": [
    "plt.plot(model_history.history['loss'])\n",
    "plt.plot(model_history.history['val_loss'])\n",
    "plt.title('Model Loss')\n",
    "plt.ylabel('Loss')\n",
    "plt.xlabel('Epoch')\n",
    "plt.legend(['Train', 'Validation'], loc='upper left', bbox_to_anchor=(1,1))\n",
    "plt.show()"
   ]
  },
  {
   "cell_type": "code",
   "execution_count": 24,
   "id": "c6af604d",
   "metadata": {},
   "outputs": [
    {
     "data": {
      "image/png": "[encoded data removed]",
      "text/plain": [
       "<Figure size 640x480 with 1 Axes>"
      ]
     },
     "metadata": {},
     "output_type": "display_data"
    }
   ],
   "source": [
    "plt.plot(model_history.history['accuracy'])\n",
    "plt.plot(model_history.history['val_accuracy'])\n",
    "plt.title('Model Accuracy')\n",
    "plt.ylabel('Accuracy')\n",
    "plt.xlabel('Epoch')\n",
    "plt.legend(['Train', 'Validation'], loc='upper left', bbox_to_anchor=(1,1))\n",
    "plt.show()\n",
    "pred=[]\n",
    "t=model.predict(X)\n",
    "for n in t:\n",
    "    p=round(n[0])\n",
    "    pred.append(p)"
   ]
  },
  {
   "cell_type": "code",
   "execution_count": 25,
   "id": "6e6287e2",
   "metadata": {},
   "outputs": [
    {
     "name": "stdout",
     "output_type": "stream",
     "text": [
      "Accuracy: 98.47102\n",
      "Precision: 0.98475\n",
      "Recall: 0.98471\n",
      "F1 Score: 0.9847\n"
     ]
    }
   ],
   "source": [
    "print('Accuracy:', np.round(metrics.accuracy_score(y_test, pred)*100,5))\n",
    "print('Precision:', np.round(metrics.precision_score(y_test, pred, average='weighted'),5))\n",
    "print('Recall:', np.round(metrics.recall_score(y_test,pred, average='weighted'),5))\n",
    "print('F1 Score:', np.round(metrics.f1_score(y_test, pred, average='weighted'),5))"
   ]
  },
  {
   "cell_type": "code",
   "execution_count": 26,
   "id": "1bec05d0",
   "metadata": {},
   "outputs": [
    {
     "name": "stdout",
     "output_type": "stream",
     "text": [
      "              precision    recall  f1-score   support\n",
      "\n",
      "           0       0.99      0.98      0.98      2002\n",
      "           1       0.98      0.99      0.99      2380\n",
      "\n",
      "    accuracy                           0.98      4382\n",
      "   macro avg       0.99      0.98      0.98      4382\n",
      "weighted avg       0.98      0.98      0.98      4382\n",
      "\n"
     ]
    }
   ],
   "source": [
    "from sklearn.metrics import classification_report, confusion_matrix\n",
    "print(classification_report(y_test, pred))"
   ]
  },
  {
   "cell_type": "code",
   "execution_count": 27,
   "id": "ce84596c",
   "metadata": {},
   "outputs": [
    {
     "name": "stdout",
     "output_type": "stream",
     "text": [
      "[[1957   45]\n",
      " [  22 2358]]\n"
     ]
    }
   ],
   "source": [
    "print(confusion_matrix(y_test, pred))"
   ]
  },
  {
   "cell_type": "code",
   "execution_count": 28,
   "id": "f528c9ce",
   "metadata": {},
   "outputs": [
    {
     "data": {
      "text/plain": [
       "0.9383822060292648"
      ]
     },
     "execution_count": 28,
     "metadata": {},
     "output_type": "execute_result"
    }
   ],
   "source": [
    "from sklearn.metrics import r2_score\n",
    "r2_score(y_test, pred)"
   ]
  },
  {
   "cell_type": "code",
   "execution_count": 29,
   "id": "e2174ffb",
   "metadata": {},
   "outputs": [],
   "source": [
    "from sklearn.metrics import ConfusionMatrixDisplay\n",
    "plt.show(confusion_matrix)"
   ]
  },
  {
   "cell_type": "code",
   "execution_count": 30,
   "id": "adc2cc1d",
   "metadata": {},
   "outputs": [
    {
     "name": "stdout",
     "output_type": "stream",
     "text": [
      "Cohens kappa: 0.969163\n",
      "ROC AUC: 0.984139\n",
      "[[1957   45]\n",
      " [  22 2358]]\n"
     ]
    }
   ],
   "source": [
    "from sklearn.metrics import cohen_kappa_score,roc_auc_score\n",
    "kappa = cohen_kappa_score(y_test, pred)\n",
    "print('Cohens kappa: %f' % kappa)\n",
    "# ROC AUC\n",
    "auc = roc_auc_score(y_test, pred)\n",
    "print('ROC AUC: %f' % auc)\n",
    "# confusion matrix\n",
    "matrix = confusion_matrix(y_test, pred)\n",
    "print(matrix)"
   ]
  },
  {
   "cell_type": "code",
   "execution_count": 31,
   "id": "1bae4975",
   "metadata": {},
   "outputs": [
    {
     "data": {
      "image/png": "[encoded data removed]",
      "text/plain": [
       "<Figure size 640x480 with 2 Axes>"
      ]
     },
     "metadata": {},
     "output_type": "display_data"
    }
   ],
   "source": [
    "import matplotlib.pyplot as plt\n",
    "import numpy\n",
    "from sklearn import metrics\n",
    "\n",
    "confusion_matrix = metrics.confusion_matrix(y_test, pred)\n",
    "cm_display = metrics.ConfusionMatrixDisplay(confusion_matrix = confusion_matrix, display_labels = [False, True])\n",
    "\n",
    "cm_display.plot()\n",
    "plt.show()"
   ]
  },
  {
   "cell_type": "code",
   "execution_count": null,
   "id": "3c9f83a5",
   "metadata": {},
   "outputs": [],
   "source": [
    "import cv2\n",
    "import os\n",
    "from keras.models import load_model\n",
    "import numpy as np\n",
    "import time\n",
    "import winsound\n",
    "frequency = 2500\n",
    "duration = 1000\n",
    "\n",
    "\n",
    "face = cv2.CascadeClassifier('haarcascade/haarcascade_frontalface_alt.xml')\n",
    "leye = cv2.CascadeClassifier('haarcascade/haarcascade_eye.xml')\n",
    "reye = cv2.CascadeClassifier('haarcascade/haarcascade_eye.xml')\n",
    "\n",
    "eyes=cv2.CascadeClassifier('haarcascade\\haarcascade_eye.xml')\n",
    "\n",
    "lbl=['Closed eyes','Open eyes']\n",
    "\n",
    "model = load_model('modeldr.h5')\n",
    "path = os.getcwd()\n",
    "cap = cv2.VideoCapture(0) #to access the camera \n",
    "font = cv2.FONT_HERSHEY_COMPLEX_SMALL\n",
    "count=0\n",
    "score=0\n",
    "thicc=2\n",
    "rpred=[99]\n",
    "lpred=[99]\n",
    "\n",
    "\n",
    "while(True):\n",
    "    ret, frame = cap.read()   \n",
    "    height,width = frame.shape[:2] \n",
    "\n",
    "    gray = cv2.cvtColor(frame, cv2.COLOR_BGR2GRAY) \n",
    "    faces = face.detectMultiScale(gray,minNeighbors=5,scaleFactor=1.1,minSize=(25,25)) #Face detection\n",
    "    eye=eyes.detectMultiScale(gray) \n",
    "    left_eye = leye.detectMultiScale(gray,1.1,4) \n",
    "    right_eye =  reye.detectMultiScale(gray,1.1,4)\n",
    "    \n",
    "    cv2.rectangle(frame, (0,height-50) , (200,height) , (0,0,0) ,thickness=cv2.FILLED)\n",
    "\n",
    "    for (x,y,w,h) in faces:\n",
    "        cv2.rectangle(frame, (x,y) , (x+w,y+h) , (150,150,150) , 1) \n",
    "        \n",
    "    for (x,y,w,h) in eye:\n",
    "        cv2.rectangle(frame, (x,y),(x+w,y+h) ,(150,150,150) , 1) \n",
    "       \n",
    "    for (x,y,w,h) in right_eye:\n",
    "        r_eye=frame[y:y+h,x:x+w]\n",
    "        count=count+1\n",
    "        r_eye = cv2.resize(r_eye,(100,100)) \n",
    "        r_eye= r_eye/255                  \n",
    "        r_eye=  r_eye.reshape(100,100,-1)\n",
    "        r_eye = np.expand_dims(r_eye,axis=0)\n",
    "        rpred = model.predict(r_eye)\n",
    "\n",
    "        if(rpred>=0.5):\n",
    "            lbl='Open' \n",
    "        else:\n",
    "            lbl='Closed'\n",
    "        break\n",
    "\n",
    "    for (x,y,w,h) in left_eye:\n",
    "        l_eye=frame[y:y+h,x:x+w]\n",
    "        count=count+1\n",
    "        l_eye = cv2.resize(l_eye,(100,100))\n",
    "        l_eye= l_eye/255\n",
    "        l_eye=l_eye.reshape(100,100,-1)\n",
    "        l_eye = np.expand_dims(l_eye,axis=0)\n",
    "        lpred = model.predict(l_eye)\n",
    "        if(lpred>=0.5):\n",
    "            lbl='Open'   \n",
    "        else:\n",
    "            lbl='Closed'\n",
    "        break\n",
    "\n",
    "    if(lbl==\"Closed\" ):\n",
    "        score=score+1\n",
    "        cv2.putText(frame,\"Closed\",(10,height-20), font, 1,(255,255,255),1,cv2.LINE_AA)\n",
    "\n",
    "    else:\n",
    "        score=score-1\n",
    "        cv2.putText(frame,\"Open\",(10,height-20), font, 1,(255,255,255),1,cv2.LINE_AA)\n",
    "    \n",
    "        \n",
    "    if(score<0):\n",
    "        score=0   \n",
    "    cv2.putText(frame,'Score:'+str(score),(100,height-20), font, 1,(255,255,255),1,cv2.LINE_AA)\n",
    "    if(score>5):\n",
    "        cv2.putText(frame,'DROWSY DRIVER.....',(100,100), font, 1,(0,0,255),1,cv2.LINE_AA)\n",
    "        winsound.Beep(frequency,duration)\n",
    "\n",
    "        if(thicc<16):\n",
    "            thicc= thicc+2\n",
    "        else:\n",
    "            thicc=thicc-2\n",
    "            if(thicc<2):\n",
    "                thicc=2\n",
    "        cv2.rectangle(frame,(0,0),(width,height),(0,0,255),thicc) \n",
    "    cv2.imshow('Driver drowsiness detection',frame)\n",
    "    if cv2.waitKey(1) & 0xFF == ord('s'):\n",
    "        break\n",
    "cap.release()\n",
    "cv2.destroyAllWindows()\n"
   ]
  },
  {
   "cell_type": "code",
   "execution_count": null,
   "id": "9e35ac08",
   "metadata": {},
   "outputs": [],
   "source": []
  },
  {
   "cell_type": "code",
   "execution_count": null,
   "id": "cb4792f0",
   "metadata": {},
   "outputs": [],
   "source": []
  }
 ],
 "metadata": {
  "kernelspec": {
   "display_name": "Python 3 (ipykernel)",
   "language": "python",
   "name": "python3"
  },
  "language_info": {
   "codemirror_mode": {
    "name": "ipython",
    "version": 3
   },
   "file_extension": ".py",
   "mimetype": "text/x-python",
   "name": "python",
   "nbconvert_exporter": "python",
   "pygments_lexer": "ipython3",
   "version": "3.10.9"
  }
 },
 "nbformat": 4,
 "nbformat_minor": 5
}
